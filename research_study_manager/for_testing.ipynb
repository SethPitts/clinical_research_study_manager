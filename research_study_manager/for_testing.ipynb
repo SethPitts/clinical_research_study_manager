{
 "cells": [
  {
   "cell_type": "code",
   "execution_count": 43,
   "metadata": {},
   "outputs": [
    {
     "name": "stdout",
     "output_type": "stream",
     "text": [
      "What is the Start date [MM/DD/YYYY]? 11/01/2017\n",
      "What is the End date [MM/DD/YYYY]? 11/05/2017\n",
      "You have screened 10 patients in total \n",
      "Sex stats\n",
      "---------------------------\n",
      "U:3\n",
      "F:2\n",
      "M:5\n",
      "\n",
      "Age stats\n",
      "---------------------------\n",
      "mean:50.4\n",
      "min:1.0\n",
      "25%:17.0\n",
      "count:10.0\n",
      "max:97.0\n",
      "75%:72.5\n",
      "50%:64.0\n",
      "std:35.50023474100794\n",
      "\n",
      "Eligible stats\n",
      "---------------------------\n",
      "Y:4\n",
      "U:2\n",
      "N:4\n",
      "\n",
      "Enrolled stats\n",
      "---------------------------\n",
      "Y:3\n",
      "NA:3\n",
      "N:4\n",
      "\n"
     ]
    },
    {
     "data": {
      "image/png": "[encoded data removed]",
      "text/plain": [
       "<matplotlib.figure.Figure at 0x7f885b7b3160>"
      ]
     },
     "metadata": {},
     "output_type": "display_data"
    }
   ],
   "source": [
    "import os\n",
    "import pandas as pd\n",
    "import stats_functions\n",
    "import matplotlib #only needed to determine Matplotlib version number\n",
    "from stats_functions import create_dataframe_from_log\n",
    "\n",
    "# Enable inline plotting\n",
    "%matplotlib inline\n",
    "\n",
    "\n",
    "BASE_DIR = r'/home/beliefs22/PycharmProjects/clinical_research_study_manager'\n",
    "\n",
    "screening_log_path = os.path.join(BASE_DIR, 'logs', 'Screening_Log.xlsx')\n",
    "\n",
    "\n",
    "def get_screening_log_stats_by_date():\n",
    "    start_date = input('What is the Start date [MM/DD/YYYY]? ')\n",
    "    end_date = input('What is the End date [MM/DD/YYYY]? ')\n",
    "    df = stats_functions.get_basic_stats_by_date(\n",
    "        screening_log_path, 'Screening_Log', 'Screening', start_date, end_date)\n",
    "    get_basic_plot(df)\n",
    "\n",
    "\n",
    "def get_screening_log_basic_stats():\n",
    "    stats_functions.get_stats(log_path=screening_log_path, log_sheet='Screening_Log')\n",
    "\n",
    "\n",
    "def get_screening_log_stats_by_time():\n",
    "    stats_functions.get_stats_by_time(screening_log_path, 'Screening_Log', 'Screening')\n",
    "\n",
    "\n",
    "def get_basic_plot(df):\n",
    "    # See subjects enrolled by date\n",
    "    df_count = pd.DataFrame(df['ScreeningDate'], columns=['ScreeningDate'])\n",
    "    df_count = df_count.groupby('ScreeningDate')['ScreeningDate'].count()    \n",
    "    plot = df_count.plot(kind='bar')\n",
    "    fig = plot.get_figure()\n",
    "    fig.savefig('output.png')\n",
    "\n",
    "get_screening_log_stats_by_date()\n",
    "    \n",
    "\n"
   ]
  },
  {
   "cell_type": "code",
   "execution_count": null,
   "metadata": {},
   "outputs": [],
   "source": []
  },
  {
   "cell_type": "code",
   "execution_count": null,
   "metadata": {},
   "outputs": [],
   "source": []
  }
 ],
 "metadata": {
  "kernelspec": {
   "display_name": "Python 3",
   "language": "python",
   "name": "python3"
  },
  "language_info": {
   "codemirror_mode": {
    "name": "ipython",
    "version": 3
   },
   "file_extension": ".py",
   "mimetype": "text/x-python",
   "name": "python",
   "nbconvert_exporter": "python",
   "pygments_lexer": "ipython3",
   "version": "3.5.2"
  }
 },
 "nbformat": 4,
 "nbformat_minor": 1
}
